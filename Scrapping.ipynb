{
 "cells": [
  {
   "cell_type": "markdown",
   "id": "a8b84cc2-f27e-4e5e-9547-85b67e5cb74b",
   "metadata": {},
   "source": [
    "# First Project: Analisis Sentiment\n",
    "\n",
    "- Nama : Davi Sulaiman\n",
    "- ID Dicoding : MC189D5Y0317"
   ]
  },
  {
   "cell_type": "markdown",
   "id": "06408c76-eaed-40a7-880b-d22000db2b3a",
   "metadata": {},
   "source": [
    "## Install Library"
   ]
  },
  {
   "cell_type": "code",
   "execution_count": 4,
   "id": "1c0c461f-8b00-4406-814b-42388449d5bf",
   "metadata": {},
   "outputs": [
    {
     "name": "stdout",
     "output_type": "stream",
     "text": [
      "Requirement already satisfied: google-play-scraper in e:\\nlp_dicoding_task\\myvenv\\lib\\site-packages (1.2.7)\n",
      "Collecting pandas\n",
      "  Using cached pandas-2.2.3-cp312-cp312-win_amd64.whl.metadata (19 kB)\n",
      "Collecting numpy>=1.26.0 (from pandas)\n",
      "  Using cached numpy-2.2.4-cp312-cp312-win_amd64.whl.metadata (60 kB)\n",
      "Requirement already satisfied: python-dateutil>=2.8.2 in e:\\nlp_dicoding_task\\myvenv\\lib\\site-packages (from pandas) (2.9.0.post0)\n",
      "Collecting pytz>=2020.1 (from pandas)\n",
      "  Using cached pytz-2025.2-py2.py3-none-any.whl.metadata (22 kB)\n",
      "Collecting tzdata>=2022.7 (from pandas)\n",
      "  Using cached tzdata-2025.2-py2.py3-none-any.whl.metadata (1.4 kB)\n",
      "Requirement already satisfied: six>=1.5 in e:\\nlp_dicoding_task\\myvenv\\lib\\site-packages (from python-dateutil>=2.8.2->pandas) (1.17.0)\n",
      "Using cached pandas-2.2.3-cp312-cp312-win_amd64.whl (11.5 MB)\n",
      "Using cached numpy-2.2.4-cp312-cp312-win_amd64.whl (12.6 MB)\n",
      "Using cached pytz-2025.2-py2.py3-none-any.whl (509 kB)\n",
      "Using cached tzdata-2025.2-py2.py3-none-any.whl (347 kB)\n",
      "Installing collected packages: pytz, tzdata, numpy, pandas\n",
      "Successfully installed numpy-2.2.4 pandas-2.2.3 pytz-2025.2 tzdata-2025.2\n"
     ]
    },
    {
     "name": "stderr",
     "output_type": "stream",
     "text": [
      "\n",
      "[notice] A new release of pip is available: 24.0 -> 25.0.1\n",
      "[notice] To update, run: python.exe -m pip install --upgrade pip\n"
     ]
    }
   ],
   "source": [
    "# Instalasi library google-play-scraper\n",
    "!pip install google-play-scraper pandas"
   ]
  },
  {
   "cell_type": "markdown",
   "id": "36b3365a-5b5c-46de-83d9-af79cfb75b08",
   "metadata": {},
   "source": [
    "## Import Library"
   ]
  },
  {
   "cell_type": "code",
   "execution_count": 5,
   "id": "68ac2cb6-2126-4afa-8e05-e7f93900c6c2",
   "metadata": {},
   "outputs": [],
   "source": [
    "# Import library\n",
    "from google_play_scraper import reviews_all, reviews, Sort\n",
    "import pandas as pd"
   ]
  },
  {
   "cell_type": "markdown",
   "id": "0af81aa0-ed37-4998-b7ae-3cee8cf9dda9",
   "metadata": {},
   "source": [
    "## Scrapping Data ulasan aplikasi Gojek"
   ]
  },
  {
   "cell_type": "code",
   "execution_count": 6,
   "id": "1c265fd4-08bc-4ce6-9f1b-a42604d822bb",
   "metadata": {},
   "outputs": [],
   "source": [
    "# Mengambil 30000 ulasan aplikasi gojek\n",
    "scrapreview = reviews(\n",
    "    'com.gojek.app',\n",
    "    lang='id',\n",
    "    country='id',\n",
    "    sort=Sort.MOST_RELEVANT,\n",
    "    count = 30000,\n",
    "    filter_score_with=None\n",
    ")"
   ]
  },
  {
   "cell_type": "code",
   "execution_count": 7,
   "id": "d6fca3e6-4755-4d22-a31b-1f154f350582",
   "metadata": {},
   "outputs": [],
   "source": [
    "# Menyimpan hasil scrap ke dalam file csv\n",
    "data = pd.DataFrame(scrapreview[0])\n",
    "data.to_csv('./Dataset/ulasan_gojek.csv', index=False)"
   ]
  },
  {
   "cell_type": "code",
   "execution_count": null,
   "id": "97cb2a96-68ae-4716-a66b-895e0d490422",
   "metadata": {},
   "outputs": [],
   "source": []
  }
 ],
 "metadata": {
  "kernelspec": {
   "display_name": "Python 3 (ipykernel)",
   "language": "python",
   "name": "python3"
  },
  "language_info": {
   "codemirror_mode": {
    "name": "ipython",
    "version": 3
   },
   "file_extension": ".py",
   "mimetype": "text/x-python",
   "name": "python",
   "nbconvert_exporter": "python",
   "pygments_lexer": "ipython3",
   "version": "3.12.3"
  }
 },
 "nbformat": 4,
 "nbformat_minor": 5
}
